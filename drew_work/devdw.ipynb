{
 "cells": [
  {
   "attachments": {},
   "cell_type": "markdown",
   "metadata": {},
   "source": [
    "## Loading google big query client to load data "
   ]
  },
  {
   "cell_type": "code",
   "execution_count": 2,
   "metadata": {},
   "outputs": [],
   "source": [
    "import sys\n",
    "import pandas as pd\n",
    "import logging\n",
    "from typing import List\n",
    "from google.cloud import bigquery\n",
    "from google.oauth2 import service_account\n",
    "\n",
    "# TODO(developer): Set key_path to the path to the service account key file.\n",
    "\n",
    "key_path = \"/Users/drewwhite/.creds/wdrew-sa.json\"\n",
    "credentials = service_account.Credentials.from_service_account_file(\n",
    "    key_path, scopes=[\"https://www.googleapis.com/auth/cloud-platform\"],\n",
    ")\n",
    "\n",
    "client = bigquery.Client(credentials=credentials, project=credentials.project_id,)\n",
    "\n",
    "### BigQuery Variable ###  \n",
    "PROJECT_NAME = \"team-week2\"\n",
    "DATASET_NAME = \"los_angeles\"\n",
    "\n",
    "### Create Dataset ### \n",
    "dataset_id = f\"{PROJECT_NAME}.{DATASET_NAME}\"\n",
    "dataset = bigquery.Dataset(dataset_id)\n",
    "dataset.location = \"US\"\n",
    "dataset = client.create_dataset(dataset, exists_ok=True)\n",
    "\n",
    "### Load Data ### \n",
    "\n",
    "# Set Job Config \n",
    "job_config = bigquery.LoadJobConfig(\n",
    "source_format=\"CSV\",\n",
    "autodetect=True, \n",
    "create_disposition=\"CREATE_IF_NEEDED\",\n",
    "write_disposition=\"WRITE_TRUNCATE\",\n",
    "destination_table_description=\"Raw source data loaded to BigQuery\"\n",
    ")\n"
   ]
  },
  {
   "attachments": {},
   "cell_type": "markdown",
   "metadata": {},
   "source": [
    "## Reading 2010-2019 data into dataframe to verify shape"
   ]
  },
  {
   "cell_type": "code",
   "execution_count": 40,
   "metadata": {},
   "outputs": [
    {
     "name": "stdout",
     "output_type": "stream",
     "text": [
      "       dr_no               date_rptd                date_occ  time_occ  \\\n",
      "0    1307355  02/20/2010 12:00:00 AM  02/20/2010 12:00:00 AM      1350   \n",
      "1   11401303  09/13/2010 12:00:00 AM  09/12/2010 12:00:00 AM        45   \n",
      "2   70309629  08/09/2010 12:00:00 AM  08/09/2010 12:00:00 AM      1515   \n",
      "3   90631215  01/05/2010 12:00:00 AM  01/05/2010 12:00:00 AM       150   \n",
      "4  100100501  01/03/2010 12:00:00 AM  01/02/2010 12:00:00 AM      2100   \n",
      "\n",
      "   area_id  area_name  rpt_dist_no  part_1_2  crm_cd  \\\n",
      "0       13     Newton         1385         2     900   \n",
      "1       14    Pacific         1485         2     740   \n",
      "2       13     Newton         1324         2     946   \n",
      "3        6  Hollywood          646         2     900   \n",
      "4        1    Central          176         1     122   \n",
      "\n",
      "                                         crm_cd_desc  ... status  \\\n",
      "0                           VIOLATION OF COURT ORDER  ...     AA   \n",
      "1  VANDALISM - FELONY ($400 & OVER, ALL CHURCH VA...  ...     IC   \n",
      "2                          OTHER MISCELLANEOUS CRIME  ...     IC   \n",
      "3                           VIOLATION OF COURT ORDER  ...     IC   \n",
      "4                                    RAPE, ATTEMPTED  ...     IC   \n",
      "\n",
      "    status_desc crm_cd_1 crm_cd_2  crm_cd_3 crm_cd_4  \\\n",
      "0  Adult Arrest    900.0      NaN       NaN      NaN   \n",
      "1   Invest Cont    740.0      NaN       NaN      NaN   \n",
      "2   Invest Cont    946.0      NaN       NaN      NaN   \n",
      "3   Invest Cont    900.0    998.0       NaN      NaN   \n",
      "4   Invest Cont    122.0      NaN       NaN      NaN   \n",
      "\n",
      "                                  location                     cross_street  \\\n",
      "0   300 E  GAGE                         AV                              NaN   \n",
      "1          SEPULVEDA                    BL  MANCHESTER                   AV   \n",
      "2  1300 E  21ST                         ST                              NaN   \n",
      "3          CAHUENGA                     BL  HOLLYWOOD                    BL   \n",
      "4          8TH                          ST  SAN PEDRO                    ST   \n",
      "\n",
      "       lat       lon  \n",
      "0  33.9825 -118.2695  \n",
      "1  33.9599 -118.3962  \n",
      "2  34.0224 -118.2524  \n",
      "3  34.1016 -118.3295  \n",
      "4  34.0387 -118.2488  \n",
      "\n",
      "[5 rows x 28 columns]\n",
      "(2118203, 28)\n"
     ]
    }
   ],
   "source": [
    "df = pd.read_csv(\"../data/LA_crime2010-2019.csv\")\n",
    "\n",
    "# replacing spaces and dashes with underscores\n",
    "\n",
    "df.columns = df.columns.str.replace(\" \", \"_\").str.lower()\n",
    "df.columns = df.columns.str.replace(\"-\", \"_\").str.lower()\n",
    "df.rename(columns={'area_':'area_id'}, inplace=True)\n",
    "print(df.head(5))\n",
    "print(df.shape)"
   ]
  },
  {
   "attachments": {},
   "cell_type": "markdown",
   "metadata": {},
   "source": [
    "## Pushing 2010-2019 to bigquery"
   ]
  },
  {
   "cell_type": "code",
   "execution_count": 42,
   "metadata": {},
   "outputs": [],
   "source": [
    "import numpy as np\n",
    "\n",
    "# large data frame use code below to write in chunks\n",
    "\n",
    "for df_chunk in np.array_split(df, 5):\n",
    "  job_config = bigquery.LoadJobConfig()\n",
    "  job_config.write_disposition = bigquery.WriteDisposition.WRITE_TRUNCATE\n",
    "  job = client.load_table_from_dataframe(df_chunk, f\"{PROJECT_NAME}.{DATASET_NAME}.LA_2010_2019\", job_config=job_config)\n",
    "  job.result()"
   ]
  },
  {
   "attachments": {},
   "cell_type": "markdown",
   "metadata": {},
   "source": [
    "## Reading 2020-Present data into dataframe to verify shape "
   ]
  },
  {
   "cell_type": "code",
   "execution_count": 38,
   "metadata": {},
   "outputs": [
    {
     "name": "stdout",
     "output_type": "stream",
     "text": [
      "       dr_no               date_rptd                date_occ  time_occ  \\\n",
      "0   10304468  01/08/2020 12:00:00 AM  01/08/2020 12:00:00 AM      2230   \n",
      "1  190101086  01/02/2020 12:00:00 AM  01/01/2020 12:00:00 AM       330   \n",
      "2  201220752  09/16/2020 12:00:00 AM  09/16/2020 12:00:00 AM      1230   \n",
      "3  191501505  01/01/2020 12:00:00 AM  01/01/2020 12:00:00 AM      1730   \n",
      "4  191921269  01/01/2020 12:00:00 AM  01/01/2020 12:00:00 AM       415   \n",
      "\n",
      "   area_id    area_name  rpt_dist_no  part_1_2  crm_cd  \\\n",
      "0        3    Southwest          377         2     624   \n",
      "1        1      Central          163         2     624   \n",
      "2       12  77th Street         1259         2     745   \n",
      "3       15  N Hollywood         1543         2     745   \n",
      "4       19      Mission         1998         2     740   \n",
      "\n",
      "                                         crm_cd_desc  ... status  status_desc  \\\n",
      "0                           BATTERY - SIMPLE ASSAULT  ...     AO  Adult Other   \n",
      "1                           BATTERY - SIMPLE ASSAULT  ...     IC  Invest Cont   \n",
      "2           VANDALISM - MISDEAMEANOR ($399 OR UNDER)  ...     IC  Invest Cont   \n",
      "3           VANDALISM - MISDEAMEANOR ($399 OR UNDER)  ...     IC  Invest Cont   \n",
      "4  VANDALISM - FELONY ($400 & OVER, ALL CHURCH VA...  ...     IC  Invest Cont   \n",
      "\n",
      "  crm_cd_1 crm_cd_2  crm_cd_3 crm_cd_4  \\\n",
      "0    624.0      NaN       NaN      NaN   \n",
      "1    624.0      NaN       NaN      NaN   \n",
      "2    745.0      NaN       NaN      NaN   \n",
      "3    745.0    998.0       NaN      NaN   \n",
      "4    740.0      NaN       NaN      NaN   \n",
      "\n",
      "                                   location cross_street      lat       lon  \n",
      "0   1100 W  39TH                         PL          NaN  34.0141 -118.2978  \n",
      "1    700 S  HILL                         ST          NaN  34.0459 -118.2545  \n",
      "2    700 E  73RD                         ST          NaN  33.9739 -118.2630  \n",
      "3   5400    CORTEEN                      PL          NaN  34.1685 -118.4019  \n",
      "4  14400    TITUS                        ST          NaN  34.2198 -118.4468  \n",
      "\n",
      "[5 rows x 28 columns]\n",
      "(326213, 28)\n"
     ]
    }
   ],
   "source": [
    "df = pd.read_csv(\"../data/LA_crime2020-present.csv\")\n",
    "\n",
    "# replacing spaces and dashes with underscores\n",
    "\n",
    "df.columns = df.columns.str.replace(\" \", \"_\").str.lower()\n",
    "df.columns = df.columns.str.replace(\"-\", \"_\").str.lower()\n",
    "df.rename(columns={'area':'area_id'}, inplace=True)\n",
    "print(df.head(5))\n",
    "print(df.shape)"
   ]
  },
  {
   "attachments": {},
   "cell_type": "markdown",
   "metadata": {},
   "source": [
    "## Pushing 2020-Present to bigquery"
   ]
  },
  {
   "cell_type": "code",
   "execution_count": 39,
   "metadata": {},
   "outputs": [
    {
     "data": {
      "text/plain": [
       "LoadJob<project=team-week2, location=US, id=2f730620-1707-46a7-949e-34bf92e885da>"
      ]
     },
     "execution_count": 39,
     "metadata": {},
     "output_type": "execute_result"
    }
   ],
   "source": [
    "job = client.load_table_from_dataframe(df, f\"{PROJECT_NAME}.{DATASET_NAME}.LA_2020_PRESENT\", job_config=job_config)\n",
    "job.result()"
   ]
  },
  {
   "attachments": {},
   "cell_type": "markdown",
   "metadata": {},
   "source": [
    "## Concat data sets for better visualization"
   ]
  },
  {
   "cell_type": "code",
   "execution_count": 3,
   "metadata": {},
   "outputs": [
    {
     "name": "stdout",
     "output_type": "stream",
     "text": [
      "(2118203, 28)\n",
      "(326213, 28)\n"
     ]
    }
   ],
   "source": [
    "df1 = pd.read_csv(\"../data/LA_crime2010-2019.csv\")\n",
    "df2 = pd.read_csv(\"../data/LA_crime2020-present.csv\")\n",
    "\n",
    "# replacing spaces and dashes with underscores\n",
    "\n",
    "df1.columns = df1.columns.str.replace(\" \", \"_\").str.lower()\n",
    "df1.columns = df1.columns.str.replace(\"-\", \"_\").str.lower()\n",
    "df1.rename(columns={'area_':'area_id'}, inplace=True)\n",
    "\n",
    "df2.columns = df2.columns.str.replace(\" \", \"_\").str.lower()\n",
    "df2.columns = df2.columns.str.replace(\"-\", \"_\").str.lower()\n",
    "df2.rename(columns={'area_':'area_id'}, inplace=True)\n",
    "\n",
    "print(df1.shape)\n",
    "print(df2.shape)"
   ]
  },
  {
   "cell_type": "code",
   "execution_count": 4,
   "metadata": {},
   "outputs": [
    {
     "name": "stdout",
     "output_type": "stream",
     "text": [
      "(2444416, 29)\n"
     ]
    }
   ],
   "source": [
    "frames = [df1, df2]\n",
    "\n",
    "combined = pd.concat(frames)\n",
    "\n",
    "print(combined.shape)"
   ]
  },
  {
   "cell_type": "code",
   "execution_count": 5,
   "metadata": {},
   "outputs": [],
   "source": [
    "import numpy as np\n",
    "\n",
    "# large data frame use code below to write in chunks\n",
    "\n",
    "for df_chunk in np.array_split(combined, 5):\n",
    "  job_config = bigquery.LoadJobConfig()\n",
    "  job_config.write_disposition = bigquery.WriteDisposition.WRITE_TRUNCATE\n",
    "  job = client.load_table_from_dataframe(df_chunk, f\"{PROJECT_NAME}.{DATASET_NAME}.LA_2010_PRESENT\", job_config=job_config)\n",
    "  job.result()"
   ]
  }
 ],
 "metadata": {
  "kernelspec": {
   "display_name": "venv",
   "language": "python",
   "name": "python3"
  },
  "language_info": {
   "codemirror_mode": {
    "name": "ipython",
    "version": 3
   },
   "file_extension": ".py",
   "mimetype": "text/x-python",
   "name": "python",
   "nbconvert_exporter": "python",
   "pygments_lexer": "ipython3",
   "version": "3.7.15"
  },
  "orig_nbformat": 4,
  "vscode": {
   "interpreter": {
    "hash": "6fe22f8fe411085870f417a1e020b87109e7d55752c709afe1af00b5afc53fe9"
   }
  }
 },
 "nbformat": 4,
 "nbformat_minor": 2
}
